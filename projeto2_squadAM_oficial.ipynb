{
 "cells": [
  {
   "cell_type": "markdown",
   "metadata": {},
   "source": [
    "##  (Squad AM) Projeto Oficial \n",
    "\n",
    "### Trens e Metrôs de SP"
   ]
  },
  {
   "cell_type": "code",
   "execution_count": 1,
   "metadata": {},
   "outputs": [],
   "source": [
    "# Importando Bibliotecas\n",
    "import networkx as nx\n",
    "import numpy as np\n",
    "import pandas as pd\n",
    "import os\n",
    "import matplotlib.pyplot as plt"
   ]
  },
  {
   "cell_type": "code",
   "execution_count": 3,
   "metadata": {},
   "outputs": [],
   "source": [
    "# importando o csv em um Pandas DataFrame\n",
    "dados = pd.read_csv('csvs/metroetrem_sp_comlinks.csv')"
   ]
  },
  {
   "cell_type": "code",
   "execution_count": 17,
   "metadata": {},
   "outputs": [
    {
     "name": "stdout",
     "output_type": "stream",
     "text": [
      "<class 'pandas.core.frame.DataFrame'>\n",
      "Int64Index: 197 entries, 0 to 17\n",
      "Data columns (total 6 columns):\n",
      "num_lin        197 non-null int64\n",
      "nome_lin       197 non-null object\n",
      "long           197 non-null int64\n",
      "lat            197 non-null int64\n",
      "estacao_upp    197 non-null object\n",
      "link           197 non-null object\n",
      "dtypes: int64(3), object(3)\n",
      "memory usage: 10.8+ KB\n"
     ]
    }
   ],
   "source": [
    "# visão geral do DF\n",
    "dados.info()"
   ]
  },
  {
   "cell_type": "code",
   "execution_count": 18,
   "metadata": {},
   "outputs": [
    {
     "data": {
      "text/html": [
       "<div>\n",
       "<style scoped>\n",
       "    .dataframe tbody tr th:only-of-type {\n",
       "        vertical-align: middle;\n",
       "    }\n",
       "\n",
       "    .dataframe tbody tr th {\n",
       "        vertical-align: top;\n",
       "    }\n",
       "\n",
       "    .dataframe thead th {\n",
       "        text-align: right;\n",
       "    }\n",
       "</style>\n",
       "<table border=\"1\" class=\"dataframe\">\n",
       "  <thead>\n",
       "    <tr style=\"text-align: right;\">\n",
       "      <th></th>\n",
       "      <th>num_lin</th>\n",
       "      <th>nome_lin</th>\n",
       "      <th>long</th>\n",
       "      <th>lat</th>\n",
       "      <th>estacao_upp</th>\n",
       "      <th>link</th>\n",
       "    </tr>\n",
       "  </thead>\n",
       "  <tbody>\n",
       "    <tr>\n",
       "      <th>0</th>\n",
       "      <td>4</td>\n",
       "      <td>AMARELA</td>\n",
       "      <td>-46723768</td>\n",
       "      <td>-23586440</td>\n",
       "      <td>SAO PAULO MORUMBI</td>\n",
       "      <td>BUTANTA</td>\n",
       "    </tr>\n",
       "    <tr>\n",
       "      <th>1</th>\n",
       "      <td>4</td>\n",
       "      <td>AMARELA</td>\n",
       "      <td>-46708157</td>\n",
       "      <td>-23571857</td>\n",
       "      <td>BUTANTA</td>\n",
       "      <td>PINHEIROS</td>\n",
       "    </tr>\n",
       "    <tr>\n",
       "      <th>2</th>\n",
       "      <td>4</td>\n",
       "      <td>AMARELA</td>\n",
       "      <td>-46701610</td>\n",
       "      <td>-23567392</td>\n",
       "      <td>PINHEIROS</td>\n",
       "      <td>FARIA LIMA</td>\n",
       "    </tr>\n",
       "    <tr>\n",
       "      <th>3</th>\n",
       "      <td>4</td>\n",
       "      <td>AMARELA</td>\n",
       "      <td>-46694102</td>\n",
       "      <td>-23567269</td>\n",
       "      <td>FARIA LIMA</td>\n",
       "      <td>FRADIQUE COUTINHO</td>\n",
       "    </tr>\n",
       "    <tr>\n",
       "      <th>4</th>\n",
       "      <td>4</td>\n",
       "      <td>AMARELA</td>\n",
       "      <td>-46684259</td>\n",
       "      <td>-23566228</td>\n",
       "      <td>FRADIQUE COUTINHO</td>\n",
       "      <td>OSCAR FREIRE</td>\n",
       "    </tr>\n",
       "  </tbody>\n",
       "</table>\n",
       "</div>"
      ],
      "text/plain": [
       "   num_lin nome_lin      long       lat        estacao_upp               link\n",
       "0        4  AMARELA -46723768 -23586440  SAO PAULO MORUMBI            BUTANTA\n",
       "1        4  AMARELA -46708157 -23571857            BUTANTA          PINHEIROS\n",
       "2        4  AMARELA -46701610 -23567392          PINHEIROS         FARIA LIMA\n",
       "3        4  AMARELA -46694102 -23567269         FARIA LIMA  FRADIQUE COUTINHO\n",
       "4        4  AMARELA -46684259 -23566228  FRADIQUE COUTINHO       OSCAR FREIRE"
      ]
     },
     "execution_count": 18,
     "metadata": {},
     "output_type": "execute_result"
    }
   ],
   "source": [
    "# primeiras cinco linhas do DF\n",
    "dados.head()"
   ]
  },
  {
   "cell_type": "markdown",
   "metadata": {},
   "source": [
    "### Gerando os Grafos:"
   ]
  },
  {
   "cell_type": "code",
   "execution_count": 19,
   "metadata": {},
   "outputs": [],
   "source": [
    "grafos_dict = dict()\n",
    "# dicionário para armazenar os grafos por linha de metro/trem\n",
    "\n",
    "for linha in dados['nome_lin'].unique():\n",
    "    # para cada linha (ex: amarela, verde, etc...)\n",
    "    \n",
    "    G = nx.Graph()\n",
    "    df_temp = dados[dados['nome_lin'] == linha]\n",
    "    # dataframe temporário exclusivo para cada linha de metro/trem\n",
    "    \n",
    "    for id, row in df_temp.iterrows():\n",
    "        G.add_node(row['estacao_upp'], location=(row['long'], row['lat']))\n",
    "        # add nodes com informação de longitude e latitude\n",
    "    \n",
    "    for id,row in df_temp.iterrows():\n",
    "        G.add_edge(row['estacao_upp'], row['link'], linha=row['nome_lin'])\n",
    "        # add vértices com informação do nome da linha\n",
    "    \n",
    "    grafos_dict[linha] = G\n",
    "    # adicionando cada grafo no dicionário (grafos_dict)"
   ]
  },
  {
   "cell_type": "code",
   "execution_count": 20,
   "metadata": {},
   "outputs": [
    {
     "data": {
      "text/plain": [
       "dict_keys(['AMARELA', 'AZUL', 'CORAL', 'DIAMANTE', 'ESMERALDA', 'JADE', 'LILAS', 'PRATA', 'RUBI', 'SAFIRA', 'TURQUESA', 'VERDE', 'VERMELHA'])"
      ]
     },
     "execution_count": 20,
     "metadata": {},
     "output_type": "execute_result"
    }
   ],
   "source": [
    "# checando as chaves do dicionário pra ver se o processo deu certo\n",
    "grafos_dict.keys()"
   ]
  },
  {
   "cell_type": "markdown",
   "metadata": {},
   "source": [
    "### Plotando os Grafos"
   ]
  },
  {
   "cell_type": "code",
   "execution_count": 36,
   "metadata": {},
   "outputs": [
    {
     "data": {
      "image/png": "[encoded data removed]",
      "text/plain": [
       "<Figure size 1152x576 with 1 Axes>"
      ]
     },
     "metadata": {},
     "output_type": "display_data"
    }
   ],
   "source": [
    "linha_target = 'AMARELA'\n",
    "# variável para deixar o código mais genérico\n",
    "\n",
    "nx.draw_networkx(grafos_dict[linha_target], node_color='yellow')\n",
    "# plotando o grafo\n",
    "\n",
    "plt.rcParams['figure.figsize'] = [16, 8]\n",
    "# escolhendo o tamanho do grafo"
   ]
  },
  {
   "cell_type": "markdown",
   "metadata": {},
   "source": [
    "# Plotar o Grafo Completo"
   ]
  },
  {
   "cell_type": "code",
   "execution_count": null,
   "metadata": {},
   "outputs": [],
   "source": []
  },
  {
   "cell_type": "markdown",
   "metadata": {},
   "source": [
    "# Pesos?"
   ]
  },
  {
   "cell_type": "code",
   "execution_count": null,
   "metadata": {},
   "outputs": [],
   "source": []
  },
  {
   "cell_type": "markdown",
   "metadata": {},
   "source": [
    "# Função de Percurso"
   ]
  },
  {
   "cell_type": "code",
   "execution_count": null,
   "metadata": {},
   "outputs": [],
   "source": []
  },
  {
   "cell_type": "markdown",
   "metadata": {},
   "source": [
    "# Interface"
   ]
  },
  {
   "cell_type": "code",
   "execution_count": null,
   "metadata": {},
   "outputs": [],
   "source": []
  }
 ],
 "metadata": {
  "kernelspec": {
   "display_name": "Python 3",
   "language": "python",
   "name": "python3"
  },
  "language_info": {
   "codemirror_mode": {
    "name": "ipython",
    "version": 3
   },
   "file_extension": ".py",
   "mimetype": "text/x-python",
   "name": "python",
   "nbconvert_exporter": "python",
   "pygments_lexer": "ipython3",
   "version": "3.7.5"
  }
 },
 "nbformat": 4,
 "nbformat_minor": 2
}
